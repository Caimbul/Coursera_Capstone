{
    "cells": [
        {
            "metadata": {
                "collapsed": true
            },
            "cell_type": "markdown",
            "source": "<h1><b>This Jupiter Notebook will be used to contain the Neighbourhood Selection project for the Coursera Data Science Capstone Project</b></h1>"
        },
        {
            "metadata": {},
            "cell_type": "code",
            "source": "import pandas as pd #Import Pandas with pd as alias.",
            "execution_count": 2,
            "outputs": []
        },
        {
            "metadata": {},
            "cell_type": "code",
            "source": "import numpy as np #Import Numpy with np as alias.",
            "execution_count": 3,
            "outputs": []
        },
        {
            "metadata": {},
            "cell_type": "code",
            "source": "print('Hello Capstone Project Course!')",
            "execution_count": 4,
            "outputs": [
                {
                    "output_type": "stream",
                    "text": "Hello Capstone Project Course!\n",
                    "name": "stdout"
                }
            ]
        },
        {
            "metadata": {},
            "cell_type": "markdown",
            "source": "<h3><i>Step 1: Webscrape Toronto location data from Postal list site</i></h3>"
        },
        {
            "metadata": {},
            "cell_type": "code",
            "source": "# Get additional libraries\n!pip install bs4\n!pip install requests\n",
            "execution_count": 5,
            "outputs": [
                {
                    "output_type": "stream",
                    "text": "/opt/conda/envs/Python-3.7-main/lib/python3.7/site-packages/secretstorage/dhcrypto.py:16: CryptographyDeprecationWarning: int_from_bytes is deprecated, use int.from_bytes instead\n  from cryptography.utils import int_from_bytes\n/opt/conda/envs/Python-3.7-main/lib/python3.7/site-packages/secretstorage/util.py:25: CryptographyDeprecationWarning: int_from_bytes is deprecated, use int.from_bytes instead\n  from cryptography.utils import int_from_bytes\nCollecting bs4\n  Downloading bs4-0.0.1.tar.gz (1.1 kB)\nRequirement already satisfied: beautifulsoup4 in /opt/conda/envs/Python-3.7-main/lib/python3.7/site-packages (from bs4) (4.9.1)\nRequirement already satisfied: soupsieve>1.2 in /opt/conda/envs/Python-3.7-main/lib/python3.7/site-packages (from beautifulsoup4->bs4) (2.0.1)\nBuilding wheels for collected packages: bs4\n  Building wheel for bs4 (setup.py) ... \u001b[?25ldone\n\u001b[?25h  Created wheel for bs4: filename=bs4-0.0.1-py3-none-any.whl size=1272 sha256=e07a098979f6cd7399adef17cbd20891a10877cdbbee04effa1b4ee5d684a5c6\n  Stored in directory: /tmp/wsuser/.cache/pip/wheels/0a/9e/ba/20e5bbc1afef3a491f0b3bb74d508f99403aabe76eda2167ca\nSuccessfully built bs4\nInstalling collected packages: bs4\nSuccessfully installed bs4-0.0.1\n/opt/conda/envs/Python-3.7-main/lib/python3.7/site-packages/secretstorage/dhcrypto.py:16: CryptographyDeprecationWarning: int_from_bytes is deprecated, use int.from_bytes instead\n  from cryptography.utils import int_from_bytes\n/opt/conda/envs/Python-3.7-main/lib/python3.7/site-packages/secretstorage/util.py:25: CryptographyDeprecationWarning: int_from_bytes is deprecated, use int.from_bytes instead\n  from cryptography.utils import int_from_bytes\nRequirement already satisfied: requests in /opt/conda/envs/Python-3.7-main/lib/python3.7/site-packages (2.24.0)\nRequirement already satisfied: chardet<4,>=3.0.2 in /opt/conda/envs/Python-3.7-main/lib/python3.7/site-packages (from requests) (3.0.4)\nRequirement already satisfied: urllib3!=1.25.0,!=1.25.1,<1.26,>=1.21.1 in /opt/conda/envs/Python-3.7-main/lib/python3.7/site-packages (from requests) (1.25.9)\nRequirement already satisfied: certifi>=2017.4.17 in /opt/conda/envs/Python-3.7-main/lib/python3.7/site-packages (from requests) (2020.12.5)\nRequirement already satisfied: idna<3,>=2.5 in /opt/conda/envs/Python-3.7-main/lib/python3.7/site-packages (from requests) (2.9)\n",
                    "name": "stdout"
                }
            ]
        },
        {
            "metadata": {},
            "cell_type": "code",
            "source": "from bs4 import BeautifulSoup # this module helps in web scrapping.\nimport requests  # this module helps us to download a web page",
            "execution_count": 6,
            "outputs": []
        },
        {
            "metadata": {},
            "cell_type": "code",
            "source": "# Screen Grab. Add raw data column to help descramble borough/Neighborhood issues M3B,M3C,M3K,M3L.M3M,M3N,\nTorontodf = pd.DataFrame(columns=['PostalCode','Borough','Neighborhood','Raw'])\nurl = \"https://en.wikipedia.org/wiki/List_of_postal_codes_of_Canada:_M\"\n# get the contents of the webpage in text format and store in a variable called data\ndata  = requests.get(url).text\nsoup = BeautifulSoup(data,\"html5lib\")\n#find a html table in the web page\ntable = soup.find('table') # in html table is represented by the tag <table>\nfor row in table.findAll('td'):\n    cell = {}    \n    if row.span.text=='Not assigned':\n        pass\n    else:\n        cell['PostalCode'] = row.p.text[:3]\n        cell['Raw'] = repr(row.span)\n        cell['Borough'] = (row.span.text).split('(')[0]\n#        cell['Neighborhood'] = (((((row.span.text).split('(')[1]).strip(')')).replace(' /',',')).replace(')',' ')).strip(' ')\n        cell['Neighborhood'] = row.span.text.split('(')[1].replace(')',' ').replace(' /',',').strip(')')\n        Torontodf = Torontodf.append({\"PostalCode\":cell['PostalCode'], \"Borough\":cell['Borough'], \"Neighborhood\":cell['Neighborhood'], \"Raw\":cell['Raw']}, ignore_index=True)\n        if row.p.text[:3] == 'M3C':\n            print(row.span)\n",
            "execution_count": 79,
            "outputs": [
                {
                    "output_type": "stream",
                    "text": "<span style=\"font-size:85%;\"><a href=\"/wiki/North_York\" title=\"North York\">North York</a><br/>(<a href=\"/wiki/Don_Mills\" title=\"Don Mills\">Don Mills</a>)<br/>South<br/>(<a href=\"/wiki/Flemingdon_Park\" title=\"Flemingdon Park\">Flemingdon Park</a>)</span>\n",
                    "name": "stdout"
                }
            ]
        },
        {
            "metadata": {},
            "cell_type": "markdown",
            "source": "Clean Webscraped data."
        },
        {
            "metadata": {},
            "cell_type": "code",
            "source": "# List of Borough replacements\nTorontodf['Borough']=Torontodf['Borough'].replace({'Downtown TorontoStn A PO Boxes25 The Esplanade':'Downtown Toronto Stn A',\n                                             'East TorontoBusiness reply mail Processing Centre969 Eastern':'East Toronto Business',\n                                             'EtobicokeNorthwest':'Etobicoke Northwest','East YorkEast Toronto':'East York/East Toronto',\n                                             'MississaugaCanada Post Gateway Processing Centre':'Mississauga'})\nTorontodf.loc[Torontodf.PostalCode == 'M3C', 'Neighborhood'] = \"Don Mills South, Flemingdon Park\" # 2nd hood dropped in scrape\nTorontodf.loc[Torontodf.PostalCode == 'M4J', 'Borough'] = \"East York, East Toronto\" # Postal code has 2 Boroughs can't drop / character.\nTorontodf.loc[Torontodf.PostalCode == 'M3K', 'Neighborhood'] = \"Downsview East, CFB Toronto\" # 2nd hood dropped in scrape\nTorontodf.loc[Torontodf.PostalCode == 'M5P', 'Neighborhood'] = \"Forest Hill North, Forest Hill West\" # Guess that Forest Hill North & West is FHN and FHW..\nTorontodf.loc[Torontodf.PostalCode == 'M7R', 'Neighborhood'] = \"Canada Post Gateway Processing Centre\" # Cleaned up name\nTorontodf.loc[Torontodf.PostalCode == 'M5W', 'Neighborhood'] = \"Canada Post PO Boxes\" # Cleaned up name\nTorontodf.loc[Torontodf.PostalCode == 'M7Y', 'Neighborhood'] = \"Canada Post Business Processing Centre\" # Cleaned up name\nTorontodf.loc[Torontodf.PostalCode == 'M7Y', 'Borough'] = \"East Toronto\" # Cleaned up name\n\n#Drop Canada Post records because they aren't proper neighborhoods.\nTorontodf.drop(Torontodf[Torontodf['PostalCode'] == 'M7R'].index, inplace = True)\nTorontodf.drop(Torontodf[Torontodf['PostalCode'] == 'M5W'].index, inplace = True)\nTorontodf.drop(Torontodf[Torontodf['PostalCode'] == 'M7Y'].index, inplace = True)\n\n#Torontodf.loc[Torontodf['PostalCode'].str.endswith('Z')]\n\n#print(Torontodf['Neighborhood'])\n#print(Torontodf.loc[Torontodf['PostalCode'].isin(['M3B','M3C','M3K','M4J','M3L','M3M','M3N'])])\n#Torontodf.loc[Torontodf['PostalCode'].isin(['M3B','M3C','M3K','M4J','M3L','M3M','M3N'])]",
            "execution_count": 100,
            "outputs": []
        },
        {
            "metadata": {},
            "cell_type": "code",
            "source": "Torontodf.shape",
            "execution_count": 101,
            "outputs": [
                {
                    "output_type": "execute_result",
                    "execution_count": 101,
                    "data": {
                        "text/plain": "(100, 4)"
                    },
                    "metadata": {}
                }
            ]
        },
        {
            "metadata": {},
            "cell_type": "code",
            "source": "",
            "execution_count": null,
            "outputs": []
        }
    ],
    "metadata": {
        "kernelspec": {
            "name": "python3",
            "display_name": "Python 3.7",
            "language": "python"
        },
        "language_info": {
            "name": "python",
            "version": "3.7.10",
            "mimetype": "text/x-python",
            "codemirror_mode": {
                "name": "ipython",
                "version": 3
            },
            "pygments_lexer": "ipython3",
            "nbconvert_exporter": "python",
            "file_extension": ".py"
        }
    },
    "nbformat": 4,
    "nbformat_minor": 1
}